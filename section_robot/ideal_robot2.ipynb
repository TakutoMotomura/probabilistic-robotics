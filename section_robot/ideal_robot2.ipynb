{
 "cells": [
  {
   "cell_type": "code",
   "execution_count": 1,
   "metadata": {},
   "outputs": [],
   "source": [
    "import matplotlib.pyplot as plt\n",
    "import math\n",
    "import matplotlib.patches as patches\n",
    "import numpy as np"
   ]
  },
  {
   "cell_type": "code",
   "execution_count": 4,
   "metadata": {},
   "outputs": [],
   "source": [
    "class World:\n",
    "    def __init__(self):\n",
    "        self.objects = [] # ここにロボットなどのオブジェクトを登録\n",
    "    \n",
    "    def append(self,obj): #オブジェクトを登録するための関数\n",
    "        self.objects.append(obj)\n",
    "    \n",
    "    def draw(self):\n",
    "        # fig は、画像全体の入れ物みたいな位置づけで\n",
    "        # その中に座標系を描くには、サブプロットというオブジェクトを作る必要がある\n",
    "        # add_subplotの引数(111)は、「figの中にサブプロットを1行1列で並べて、今作っているのはその1番目だ」という意味\n",
    "        # つまりfig中に唯一のサブプロットを作っているという意味\n",
    "        fig = plt.figure(figsize=(8,8)) #8*8inchの図を準備\n",
    "        ax = fig.add_subplot(111) #サブプロットを準備\n",
    "        ax.set_aspect(\"equal\") #縦横比を座標の値と一致させる\n",
    "        ax.set_xlim(-5,5) #X軸を-5から5の範囲\n",
    "        ax.set_ylim(-5,5) #Y軸を-5から5の範囲\n",
    "        ax.set_xlabel(\"X\",fontsize=20) #X軸ラベル設定\n",
    "        ax.set_ylabel(\"Y\",fontsize=20) #Y軸ラベル設定\n",
    "        \n",
    "        for obj in self.objects:\n",
    "            obj.draw(ax) #appendした物体を次々に描画\n",
    "        \n",
    "        plt.show()"
   ]
  },
  {
   "cell_type": "code",
   "execution_count": 6,
   "metadata": {},
   "outputs": [],
   "source": [
    "class IdealRobot:\n",
    "    def __init__(self,pose,color=\"black\"):\n",
    "        self.pose = pose #引数から姿勢の初期値を設定\n",
    "        self.r = 0.2 #描画のための初期値\n",
    "        self.color = color #引数から描画するときの色を設定\n",
    "    \n",
    "    def draw(self,ax):\n",
    "        x,y,theta = self.pose #姿勢の変数を分解して3つの変数へ\n",
    "        xn = x + self.r * math.cos(theta) #ロボットの鼻先のX座標\n",
    "        yn = y + self.r * math.sin(theta) #ロボットの鼻先のY座標\n",
    "        ax.plot([x,xn],[y,yn],color=self.color) #ロボットの向きを表す線分の描画\n",
    "        c = patches.Circle(xy=(x,y),radius=self.r,fill=False,color=self.color)\n",
    "        ax.add_patch(c) #上のpatches.Circleでロボットの胴体を表す円を作ってサブプロットへ登録"
   ]
  },
  {
   "cell_type": "code",
   "execution_count": 9,
   "metadata": {},
   "outputs": [
    {
     "data": {
      "image/png": "[encoded data removed]",
      "text/plain": [
       "<Figure size 576x576 with 1 Axes>"
      ]
     },
     "metadata": {
      "needs_background": "light"
     },
     "output_type": "display_data"
    }
   ],
   "source": [
    "world = World()\n",
    "\n",
    "robot1 = IdealRobot(np.array([2,3,math.pi/6]).T) #ロボットのインスタンス作成（色は省略）\n",
    "robot2 = IdealRobot(np.array([-2,-1,math.pi/5*6]).T,\"red\") #ロボットのインスタンス作成（赤色指定）\n",
    "\n",
    "#ロボット登録\n",
    "world.append(robot1)\n",
    "world.append(robot2)\n",
    "\n",
    "world.draw()"
   ]
  }
 ],
 "metadata": {
  "kernelspec": {
   "display_name": "Python 3",
   "language": "python",
   "name": "python3"
  },
  "language_info": {
   "codemirror_mode": {
    "name": "ipython",
    "version": 3
   },
   "file_extension": ".py",
   "mimetype": "text/x-python",
   "name": "python",
   "nbconvert_exporter": "python",
   "pygments_lexer": "ipython3",
   "version": "3.7.3"
  }
 },
 "nbformat": 4,
 "nbformat_minor": 2
}
